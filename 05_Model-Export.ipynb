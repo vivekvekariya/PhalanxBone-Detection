{
 "cells": [
  {
   "cell_type": "markdown",
   "metadata": {},
   "source": [
    "# Creating .pb file for deploying into Android Smartphones\n",
    "\n",
    "In this script we convert .h5 file containing the trained model into .pb file and also define the input and outout which are used when the .pb file is deployed into the Android Smartphone "
   ]
  },
  {
   "cell_type": "code",
   "execution_count": 1,
   "metadata": {},
   "outputs": [
    {
     "name": "stderr",
     "output_type": "stream",
     "text": [
      "/usr/local/lib/python3.6/dist-packages/h5py/__init__.py:36: FutureWarning: Conversion of the second argument of issubdtype from `float` to `np.floating` is deprecated. In future, it will be treated as `np.float64 == np.dtype(float).type`.\n",
      "  from ._conv import register_converters as _register_converters\n",
      "Using TensorFlow backend.\n"
     ]
    }
   ],
   "source": [
    "import tensorflow as tf\n",
    "import keras\n",
    "import numpy as np\n",
    "\n",
    "from keras import backend as K\n",
    "from keras.layers.normalization import BatchNormalization\n",
    "from keras.models import load_model"
   ]
  },
  {
   "cell_type": "markdown",
   "metadata": {},
   "source": [
    "## Define input and output"
   ]
  },
  {
   "cell_type": "code",
   "execution_count": 2,
   "metadata": {},
   "outputs": [],
   "source": [
    "modelname = \"model_with_orientation2\"\n",
    "\n",
    "input_path = \"./CNN_Models/\"\n",
    "input_file = modelname + \".h5\"\n",
    "\n",
    "output_path = \"./CNN_Models/\"\n",
    "output_file = modelname + \".pb\"\n",
    "\n",
    "output_node_prefix = \"output_node\""
   ]
  },
  {
   "cell_type": "code",
   "execution_count": 3,
   "metadata": {},
   "outputs": [],
   "source": [
    "sess = K.get_session()"
   ]
  },
  {
   "cell_type": "code",
   "execution_count": 4,
   "metadata": {},
   "outputs": [
    {
     "name": "stdout",
     "output_type": "stream",
     "text": [
      "output nodes names are:  ['output_node0']\n"
     ]
    }
   ],
   "source": [
    "K.set_learning_phase(0)\n",
    "net_model = load_model(input_path + input_file)\n",
    "\n",
    "num_output = 1\n",
    "pred = [None]*num_output\n",
    "pred_node_names = [None]*num_output\n",
    "for i in range(num_output):\n",
    "    pred_node_names[i] = output_node_prefix+str(i)\n",
    "    pred[i] = tf.identity(net_model.outputs[i], name=pred_node_names[i])\n",
    "print('output nodes names are: ', pred_node_names)\n",
    "output_node_prefix = pred_node_names[0]"
   ]
  },
  {
   "cell_type": "markdown",
   "metadata": {},
   "source": [
    "## Export model"
   ]
  },
  {
   "cell_type": "code",
   "execution_count": 5,
   "metadata": {},
   "outputs": [
    {
     "name": "stdout",
     "output_type": "stream",
     "text": [
      "INFO:tensorflow:Froze 14 variables.\n",
      "Converted 14 variables to const ops.\n",
      "Saved the freezed graph at:  ./CNN_Models/model_with_orientation2.pb\n"
     ]
    }
   ],
   "source": [
    "from tensorflow.python.framework import graph_util\n",
    "from tensorflow.python.framework import graph_io\n",
    "constant_graph = graph_util.convert_variables_to_constants(sess, sess.graph.as_graph_def(), pred_node_names)\n",
    "\n",
    "graph_io.write_graph(constant_graph, output_path, output_file, as_text=False)\n",
    "\n",
    "print('Saved the freezed graph at: ', (output_path + output_file))"
   ]
  },
  {
   "cell_type": "markdown",
   "metadata": {},
   "source": [
    "## Show input and output node"
   ]
  },
  {
   "cell_type": "code",
   "execution_count": 6,
   "metadata": {},
   "outputs": [
    {
     "name": "stdout",
     "output_type": "stream",
     "text": [
      "conv2d_1_input\n",
      "conv2d_1/kernel\n",
      "conv2d_1/kernel/read\n",
      "conv2d_1/bias\n",
      "conv2d_1/bias/read\n",
      "conv2d_1/convolution\n",
      "conv2d_1/BiasAdd\n",
      "conv2d_1/Relu\n",
      "conv2d_2/kernel\n",
      "conv2d_2/kernel/read\n",
      "conv2d_2/bias\n",
      "conv2d_2/bias/read\n",
      "conv2d_2/convolution\n",
      "conv2d_2/BiasAdd\n",
      "conv2d_2/Relu\n",
      "max_pooling2d_1/MaxPool\n",
      "dropout_1/Identity\n",
      "conv2d_3/kernel\n",
      "conv2d_3/kernel/read\n",
      "conv2d_3/bias\n",
      "conv2d_3/bias/read\n",
      "conv2d_3/convolution\n",
      "conv2d_3/BiasAdd\n",
      "conv2d_3/Relu\n",
      "conv2d_4/kernel\n",
      "conv2d_4/kernel/read\n",
      "conv2d_4/bias\n",
      "conv2d_4/bias/read\n",
      "conv2d_4/convolution\n",
      "conv2d_4/BiasAdd\n",
      "conv2d_4/Relu\n",
      "max_pooling2d_2/MaxPool\n",
      "dropout_2/Identity\n",
      "flatten_1/Shape\n",
      "flatten_1/strided_slice/stack\n",
      "flatten_1/strided_slice/stack_1\n",
      "flatten_1/strided_slice/stack_2\n",
      "flatten_1/strided_slice\n",
      "flatten_1/Const\n",
      "flatten_1/Prod\n",
      "flatten_1/stack/0\n",
      "flatten_1/stack\n",
      "flatten_1/Reshape\n",
      "dense_1/kernel\n",
      "dense_1/kernel/read\n",
      "dense_1/bias\n",
      "dense_1/bias/read\n",
      "dense_1/MatMul\n",
      "dense_1/BiasAdd\n",
      "dense_1/Relu\n",
      "dropout_3/Identity\n",
      "dense_2/kernel\n",
      "dense_2/kernel/read\n",
      "dense_2/bias\n",
      "dense_2/bias/read\n",
      "dense_2/MatMul\n",
      "dense_2/BiasAdd\n",
      "dense_2/Relu\n",
      "dropout_4/Identity\n",
      "dense_3/kernel\n",
      "dense_3/kernel/read\n",
      "dense_3/bias\n",
      "dense_3/bias/read\n",
      "dense_3/MatMul\n",
      "dense_3/BiasAdd\n",
      "dense_3/Softmax\n",
      "output_node0\n",
      "\n"
     ]
    }
   ],
   "source": [
    "g = tf.GraphDef()\n",
    "g.ParseFromString(open(output_path + output_file, \"rb\").read())\n",
    "s = \"\"\n",
    "for n in g.node:\n",
    "    s =s + str(n.name) + \"\\n\"\n",
    "\n",
    "print(s)"
   ]
  },
  {
   "cell_type": "code",
   "execution_count": null,
   "metadata": {},
   "outputs": [],
   "source": []
  }
 ],
 "metadata": {
  "kernelspec": {
   "display_name": "Python 3",
   "language": "python",
   "name": "python3"
  },
  "language_info": {
   "codemirror_mode": {
    "name": "ipython",
    "version": 3
   },
   "file_extension": ".py",
   "mimetype": "text/x-python",
   "name": "python",
   "nbconvert_exporter": "python",
   "pygments_lexer": "ipython3",
   "version": "3.6.4"
  }
 },
 "nbformat": 4,
 "nbformat_minor": 2
}
