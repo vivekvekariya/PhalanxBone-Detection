{
 "cells": [
  {
   "cell_type": "markdown",
   "metadata": {},
   "source": [
    "# Phalanx Touch classification using Convolutional Neural Network (KERAS)\n",
    "\n",
    "Using state of the art convolutional neural networks techniques, we trained our model to classify between Finger and Phalanx touches. We provided training data file consisting data from all participants as input. Later splitting data in to 80% - 20% as training and test set (20:5) participant wise. This will ensure that samples from the same participant won't fall in both training and test set.We used SGD as optimizer with learning rate (0.01). Our CNN Model acheived test accuracy of 98.17 %. \n",
    "\n",
    "This code is based on example of Convolutional Neural Network (https://www.kaggle.com/poojachiluvuri/cnn-for-mnist-using-keras, https://github.com/keras-team/keras/blob/master/examples/mnist_cnn.py).\n"
   ]
  },
  {
   "cell_type": "code",
   "execution_count": 1,
   "metadata": {},
   "outputs": [
    {
     "name": "stderr",
     "output_type": "stream",
     "text": [
      "/usr/local/lib/python3.6/dist-packages/h5py/__init__.py:36: FutureWarning: Conversion of the second argument of issubdtype from `float` to `np.floating` is deprecated. In future, it will be treated as `np.float64 == np.dtype(float).type`.\n",
      "  from ._conv import register_converters as _register_converters\n",
      "Using TensorFlow backend.\n"
     ]
    }
   ],
   "source": [
    "from __future__ import print_function\n",
    "import keras\n",
    "from keras.datasets import mnist\n",
    "from keras.models import Sequential\n",
    "from keras.layers import Dense, Dropout, Flatten\n",
    "from keras.layers import Conv2D, MaxPooling2D\n",
    "from keras import backend as K\n",
    "from sklearn.model_selection import train_test_split\n",
    "import pandas as pd\n",
    "import numpy as np\n",
    "import tensorflow as tf\n",
    "import matplotlib.pyplot as plt"
   ]
  },
  {
   "cell_type": "code",
   "execution_count": 2,
   "metadata": {},
   "outputs": [],
   "source": [
    "# If GPU is not available: \n",
    "# GPU_USE = '/cpu:0'\n",
    "# config = tf.ConfigProto(device_count = {\"GPU\": 0})\n",
    "\n",
    "\n",
    "# If GPU is available: \n",
    "config = tf.ConfigProto()\n",
    "config.log_device_placement = True\n",
    "config.allow_soft_placement = True\n",
    "config.gpu_options.allocator_type = 'BFC'\n",
    "\n",
    "# Limit the maximum memory used\n",
    "config.gpu_options.per_process_gpu_memory_fraction = 0.7\n",
    "\n",
    "# set session config\n",
    "tf.keras.backend.set_session(tf.Session(config=config))"
   ]
  },
  {
   "cell_type": "code",
   "execution_count": 3,
   "metadata": {},
   "outputs": [
    {
     "name": "stdout",
     "output_type": "stream",
     "text": [
      "[ 1  2  3  4  5  6  7  8  9 10 11 12 13 14 15 16 17 18 19 20 21 22 23 24\n",
      " 25]\n"
     ]
    }
   ],
   "source": [
    "df = pd.read_pickle('DataSet_Phalanx/04_Training_Set/trainingdata.pkl')\n",
    "df['Label'] = df['Label'].replace({'finger': 0,'phalanx': 1})\n",
    "pids= df.Participant.unique()\n",
    "pidsTrain = pids[:(int)(len(pids)*0.8)]\n",
    "pidsTest = pids[(int)(len(pids)*0.8):]\n",
    "print(pids)"
   ]
  },
  {
   "cell_type": "code",
   "execution_count": 4,
   "metadata": {},
   "outputs": [],
   "source": [
    "train = df[df.Participant.isin(pidsTrain)]\n",
    "test = df[df.Participant.isin(pidsTest)]"
   ]
  },
  {
   "cell_type": "code",
   "execution_count": 5,
   "metadata": {},
   "outputs": [
    {
     "name": "stdout",
     "output_type": "stream",
     "text": [
      "CPU times: user 12 s, sys: 1.94 s, total: 14 s\n",
      "Wall time: 13.8 s\n"
     ]
    }
   ],
   "source": [
    "%%time\n",
    "x_train = train.Input\n",
    "y_train = train.Label\n",
    "x_test  = test.Input\n",
    "y_test  = test.Label\n",
    "\n",
    "x_train = np.rollaxis(np.dstack(x_train.values),-1)\n",
    "x_test = np.rollaxis(np.dstack(x_test.values),-1)\n"
   ]
  },
  {
   "cell_type": "code",
   "execution_count": 6,
   "metadata": {},
   "outputs": [],
   "source": [
    "# input image dimensions\n",
    "img_rows, img_cols = 27, 15\n",
    "size = df.shape[0]"
   ]
  },
  {
   "cell_type": "code",
   "execution_count": 7,
   "metadata": {},
   "outputs": [],
   "source": [
    "if K.image_data_format() == 'channels_first':\n",
    "    x_train = x_train.reshape(x_train.shape[0], 1, img_rows, img_cols)\n",
    "    x_test = x_test.reshape(x_test.shape[0], 1, img_rows, img_cols)\n",
    "    input_shape = (1, img_rows, img_cols)\n",
    "else:\n",
    "    x_train = x_train.reshape(x_train.shape[0], img_rows, img_cols, 1)\n",
    "    x_test = x_test.reshape(x_test.shape[0], img_rows, img_cols, 1)\n",
    "    input_shape = (img_rows, img_cols, 1)"
   ]
  },
  {
   "cell_type": "code",
   "execution_count": 8,
   "metadata": {},
   "outputs": [
    {
     "data": {
      "text/plain": [
       "(1431907, 27, 15, 1)"
      ]
     },
     "execution_count": 8,
     "metadata": {},
     "output_type": "execute_result"
    }
   ],
   "source": [
    "x_train.shape"
   ]
  },
  {
   "cell_type": "code",
   "execution_count": 9,
   "metadata": {},
   "outputs": [
    {
     "name": "stdout",
     "output_type": "stream",
     "text": [
      "x_train shape: (1431907, 27, 15, 1)\n",
      "1431907 train samples\n",
      "329415 test samples\n",
      "CPU times: user 2.5 s, sys: 1.95 s, total: 4.45 s\n",
      "Wall time: 4.4 s\n"
     ]
    }
   ],
   "source": [
    "%%time\n",
    "x_train = x_train.astype('float32')\n",
    "x_test = x_test.astype('float32')\n",
    "x_train /= 255\n",
    "x_test /= 255\n",
    "print('x_train shape:', x_train.shape)\n",
    "print(x_train.shape[0], 'train samples')\n",
    "print(x_test.shape[0], 'test samples')"
   ]
  },
  {
   "cell_type": "code",
   "execution_count": 10,
   "metadata": {},
   "outputs": [],
   "source": [
    "# Setting up parameters for Model.\n",
    "batch_size = 256\n",
    "num_classes = 2\n",
    "epochs = 50\n"
   ]
  },
  {
   "cell_type": "code",
   "execution_count": 11,
   "metadata": {},
   "outputs": [],
   "source": [
    "# convert class vectors to binary class matrices\n",
    "y_train = keras.utils.to_categorical(y_train, num_classes)\n",
    "y_test = keras.utils.to_categorical(y_test, num_classes)\n"
   ]
  },
  {
   "cell_type": "code",
   "execution_count": 12,
   "metadata": {},
   "outputs": [
    {
     "data": {
      "text/plain": [
       "(27, 15, 1)"
      ]
     },
     "execution_count": 12,
     "metadata": {},
     "output_type": "execute_result"
    }
   ],
   "source": [
    "input_shape"
   ]
  },
  {
   "cell_type": "code",
   "execution_count": 13,
   "metadata": {
    "scrolled": false
   },
   "outputs": [
    {
     "name": "stdout",
     "output_type": "stream",
     "text": [
      "_________________________________________________________________\n",
      "Layer (type)                 Output Shape              Param #   \n",
      "=================================================================\n",
      "conv2d_1 (Conv2D)            (None, 26, 14, 64)        320       \n",
      "_________________________________________________________________\n",
      "conv2d_2 (Conv2D)            (None, 24, 12, 64)        36928     \n",
      "_________________________________________________________________\n",
      "max_pooling2d_1 (MaxPooling2 (None, 12, 6, 64)         0         \n",
      "_________________________________________________________________\n",
      "dropout_1 (Dropout)          (None, 12, 6, 64)         0         \n",
      "_________________________________________________________________\n",
      "conv2d_3 (Conv2D)            (None, 10, 4, 128)        73856     \n",
      "_________________________________________________________________\n",
      "conv2d_4 (Conv2D)            (None, 8, 2, 128)         147584    \n",
      "_________________________________________________________________\n",
      "max_pooling2d_2 (MaxPooling2 (None, 4, 1, 128)         0         \n",
      "_________________________________________________________________\n",
      "dropout_2 (Dropout)          (None, 4, 1, 128)         0         \n",
      "_________________________________________________________________\n",
      "flatten_1 (Flatten)          (None, 512)               0         \n",
      "_________________________________________________________________\n",
      "dense_1 (Dense)              (None, 256)               131328    \n",
      "_________________________________________________________________\n",
      "dropout_3 (Dropout)          (None, 256)               0         \n",
      "_________________________________________________________________\n",
      "dense_2 (Dense)              (None, 256)               65792     \n",
      "_________________________________________________________________\n",
      "dropout_4 (Dropout)          (None, 256)               0         \n",
      "_________________________________________________________________\n",
      "dense_3 (Dense)              (None, 2)                 514       \n",
      "=================================================================\n",
      "Total params: 456,322\n",
      "Trainable params: 456,322\n",
      "Non-trainable params: 0\n",
      "_________________________________________________________________\n",
      "Train on 1431907 samples, validate on 329415 samples\n",
      "Epoch 1/50\n",
      "1431907/1431907 [==============================] - 185s 129us/step - loss: 0.2898 - acc: 0.8795 - val_loss: 0.1421 - val_acc: 0.9506\n",
      "Epoch 2/50\n",
      "1431907/1431907 [==============================] - 184s 129us/step - loss: 0.1634 - acc: 0.9419 - val_loss: 0.0929 - val_acc: 0.9688\n",
      "Epoch 3/50\n",
      "1431907/1431907 [==============================] - 182s 127us/step - loss: 0.1393 - acc: 0.9510 - val_loss: 0.0891 - val_acc: 0.9699\n",
      "Epoch 4/50\n",
      "1431907/1431907 [==============================] - 183s 128us/step - loss: 0.1251 - acc: 0.9562 - val_loss: 0.0744 - val_acc: 0.9750\n",
      "Epoch 5/50\n",
      "1431907/1431907 [==============================] - 184s 128us/step - loss: 0.1148 - acc: 0.9597 - val_loss: 0.0708 - val_acc: 0.9757\n",
      "Epoch 6/50\n",
      "1431907/1431907 [==============================] - 182s 127us/step - loss: 0.1068 - acc: 0.9625 - val_loss: 0.0708 - val_acc: 0.9756\n",
      "Epoch 7/50\n",
      "1431907/1431907 [==============================] - 182s 127us/step - loss: 0.1014 - acc: 0.9642 - val_loss: 0.0668 - val_acc: 0.9770\n",
      "Epoch 8/50\n",
      "1431907/1431907 [==============================] - 182s 127us/step - loss: 0.0971 - acc: 0.9657 - val_loss: 0.0620 - val_acc: 0.9786\n",
      "Epoch 9/50\n",
      "1431907/1431907 [==============================] - 183s 128us/step - loss: 0.0934 - acc: 0.9668 - val_loss: 0.0648 - val_acc: 0.9780\n",
      "Epoch 10/50\n",
      "1431907/1431907 [==============================] - 184s 128us/step - loss: 0.0908 - acc: 0.9679 - val_loss: 0.0634 - val_acc: 0.9781\n",
      "Epoch 11/50\n",
      "1431907/1431907 [==============================] - 183s 128us/step - loss: 0.0885 - acc: 0.9685 - val_loss: 0.0627 - val_acc: 0.9787\n",
      "Epoch 12/50\n",
      "1431907/1431907 [==============================] - 183s 128us/step - loss: 0.0860 - acc: 0.9693 - val_loss: 0.0588 - val_acc: 0.9793\n",
      "Epoch 13/50\n",
      "1431907/1431907 [==============================] - 183s 128us/step - loss: 0.0842 - acc: 0.9697 - val_loss: 0.0642 - val_acc: 0.9784\n",
      "Epoch 14/50\n",
      "1431907/1431907 [==============================] - 182s 127us/step - loss: 0.0829 - acc: 0.9704 - val_loss: 0.0589 - val_acc: 0.9794\n",
      "Epoch 15/50\n",
      "1431907/1431907 [==============================] - 182s 127us/step - loss: 0.0814 - acc: 0.9709 - val_loss: 0.0634 - val_acc: 0.9779\n",
      "Epoch 16/50\n",
      "1431907/1431907 [==============================] - 182s 127us/step - loss: 0.0799 - acc: 0.9714 - val_loss: 0.0578 - val_acc: 0.9799\n",
      "Epoch 17/50\n",
      "1431907/1431907 [==============================] - 183s 128us/step - loss: 0.0786 - acc: 0.9717 - val_loss: 0.0629 - val_acc: 0.9788\n",
      "Epoch 18/50\n",
      "1431907/1431907 [==============================] - 183s 128us/step - loss: 0.0777 - acc: 0.9722 - val_loss: 0.0695 - val_acc: 0.9764\n",
      "Epoch 19/50\n",
      "1431907/1431907 [==============================] - 183s 128us/step - loss: 0.0766 - acc: 0.9724 - val_loss: 0.0611 - val_acc: 0.9793\n",
      "Epoch 20/50\n",
      "1431907/1431907 [==============================] - 181s 127us/step - loss: 0.0758 - acc: 0.9728 - val_loss: 0.0547 - val_acc: 0.9810\n",
      "Epoch 21/50\n",
      "1431907/1431907 [==============================] - 183s 128us/step - loss: 0.0749 - acc: 0.9731 - val_loss: 0.0592 - val_acc: 0.9797\n",
      "Epoch 22/50\n",
      "1431907/1431907 [==============================] - 182s 127us/step - loss: 0.0741 - acc: 0.9733 - val_loss: 0.0591 - val_acc: 0.9798\n",
      "Epoch 23/50\n",
      "1431907/1431907 [==============================] - 181s 126us/step - loss: 0.0731 - acc: 0.9735 - val_loss: 0.0654 - val_acc: 0.9782\n",
      "Epoch 24/50\n",
      "1431907/1431907 [==============================] - 184s 128us/step - loss: 0.0724 - acc: 0.9739 - val_loss: 0.0547 - val_acc: 0.9810\n",
      "Epoch 25/50\n",
      "1431907/1431907 [==============================] - 183s 128us/step - loss: 0.0717 - acc: 0.9740 - val_loss: 0.0538 - val_acc: 0.9812\n",
      "Epoch 26/50\n",
      "1431907/1431907 [==============================] - 183s 127us/step - loss: 0.0711 - acc: 0.9745 - val_loss: 0.0579 - val_acc: 0.9804\n",
      "Epoch 27/50\n",
      "1431907/1431907 [==============================] - 183s 128us/step - loss: 0.0705 - acc: 0.9746 - val_loss: 0.0551 - val_acc: 0.9814\n",
      "Epoch 28/50\n",
      "1431907/1431907 [==============================] - 183s 128us/step - loss: 0.0698 - acc: 0.9747 - val_loss: 0.0607 - val_acc: 0.9790\n",
      "Epoch 29/50\n",
      "1431907/1431907 [==============================] - 184s 128us/step - loss: 0.0694 - acc: 0.9749 - val_loss: 0.0559 - val_acc: 0.9803\n",
      "Epoch 30/50\n",
      "1431907/1431907 [==============================] - 183s 127us/step - loss: 0.0688 - acc: 0.9751 - val_loss: 0.0531 - val_acc: 0.9816\n",
      "Epoch 31/50\n",
      "1431907/1431907 [==============================] - 183s 128us/step - loss: 0.0683 - acc: 0.9754 - val_loss: 0.0542 - val_acc: 0.9814\n",
      "Epoch 32/50\n",
      "1431907/1431907 [==============================] - 183s 128us/step - loss: 0.0673 - acc: 0.9757 - val_loss: 0.0555 - val_acc: 0.9809\n",
      "Epoch 34/50\n",
      "1431907/1431907 [==============================] - 182s 127us/step - loss: 0.0667 - acc: 0.9757 - val_loss: 0.0605 - val_acc: 0.9797\n",
      "Epoch 35/50\n",
      "1431907/1431907 [==============================] - 181s 127us/step - loss: 0.0667 - acc: 0.9759 - val_loss: 0.0599 - val_acc: 0.9769\n",
      "Epoch 36/50\n",
      "1431907/1431907 [==============================] - 183s 128us/step - loss: 0.0660 - acc: 0.9761 - val_loss: 0.0528 - val_acc: 0.9815\n",
      "Epoch 37/50\n",
      "1431907/1431907 [==============================] - 182s 127us/step - loss: 0.0660 - acc: 0.9762 - val_loss: 0.0566 - val_acc: 0.9807\n",
      "Epoch 38/50\n",
      "1431907/1431907 [==============================] - 183s 128us/step - loss: 0.0651 - acc: 0.9765 - val_loss: 0.0628 - val_acc: 0.9781\n",
      "Epoch 39/50\n",
      "1431907/1431907 [==============================] - 182s 127us/step - loss: 0.0646 - acc: 0.9765 - val_loss: 0.0557 - val_acc: 0.9810\n",
      "Epoch 40/50\n",
      "1431907/1431907 [==============================] - 182s 127us/step - loss: 0.0644 - acc: 0.9767 - val_loss: 0.0516 - val_acc: 0.9825\n",
      "Epoch 41/50\n",
      "1431907/1431907 [==============================] - 183s 128us/step - loss: 0.0640 - acc: 0.9768 - val_loss: 0.0546 - val_acc: 0.9813\n",
      "Epoch 42/50\n",
      "1431907/1431907 [==============================] - 182s 127us/step - loss: 0.0635 - acc: 0.9770 - val_loss: 0.0537 - val_acc: 0.9815\n",
      "Epoch 43/50\n",
      "1431907/1431907 [==============================] - 182s 127us/step - loss: 0.0634 - acc: 0.9770 - val_loss: 0.0577 - val_acc: 0.9801\n",
      "Epoch 44/50\n",
      "1431907/1431907 [==============================] - 183s 128us/step - loss: 0.0632 - acc: 0.9772 - val_loss: 0.0528 - val_acc: 0.9818\n",
      "Epoch 45/50\n",
      "1431907/1431907 [==============================] - 183s 128us/step - loss: 0.0629 - acc: 0.9773 - val_loss: 0.0553 - val_acc: 0.9810\n",
      "Epoch 46/50\n",
      "1431907/1431907 [==============================] - 183s 128us/step - loss: 0.0625 - acc: 0.9772 - val_loss: 0.0536 - val_acc: 0.9815\n",
      "Epoch 47/50\n",
      "1431907/1431907 [==============================] - 182s 127us/step - loss: 0.0622 - acc: 0.9777 - val_loss: 0.0544 - val_acc: 0.9807\n",
      "Epoch 48/50\n",
      "1431907/1431907 [==============================] - 181s 127us/step - loss: 0.0617 - acc: 0.9776 - val_loss: 0.0599 - val_acc: 0.9798\n",
      "Epoch 49/50\n",
      "1431907/1431907 [==============================] - 183s 128us/step - loss: 0.0618 - acc: 0.9776 - val_loss: 0.0496 - val_acc: 0.9830\n",
      "Epoch 50/50\n",
      "1431907/1431907 [==============================] - 182s 127us/step - loss: 0.0612 - acc: 0.9779 - val_loss: 0.0542 - val_acc: 0.9815\n",
      "CPU times: user 2h 33min 51s, sys: 24min 32s, total: 2h 58min 24s\n",
      "Wall time: 2h 32min 39s\n"
     ]
    }
   ],
   "source": [
    "%%time \n",
    "\n",
    "model = Sequential()\n",
    "\n",
    "#This applies 64 convolution filters of size 2X2 and 3X3 in respective layers.\n",
    "model.add(Conv2D(64, (2, 2), activation='relu', input_shape=input_shape))\n",
    "model.add(Conv2D(64, (3, 3), activation='relu'))\n",
    "model.add(MaxPooling2D(pool_size=(2, 2)))\n",
    "model.add(Dropout(0.5))\n",
    "\n",
    "model.add(Conv2D(128, (3, 3), activation='relu'))\n",
    "model.add(Conv2D(128, (3, 3), activation='relu'))\n",
    "model.add(MaxPooling2D(pool_size=(2, 2)))\n",
    "model.add(Dropout(0.5))\n",
    "\n",
    "model.add(Flatten())\n",
    "model.add(Dense(256, activation='relu',kernel_initializer=tf.keras.initializers.glorot_uniform()))\n",
    "model.add(Dropout(0.5))\n",
    "model.add(Dense(256, activation='relu',kernel_initializer=tf.keras.initializers.glorot_uniform()))\n",
    "model.add(Dropout(0.5))\n",
    "model.add(Dense(num_classes, activation='softmax'))\n",
    "\n",
    "#adagrad = keras.optimizers.Adagrad(lr=0.01, epsilon=None, decay=0.0)\n",
    "#rmsprop = keras.optimizers.RMSprop(lr=0.001, rho=0.9, epsilon=None, decay=0.0)\n",
    "sgd = keras.optimizers.sgd(lr=0.01, decay=1e-6, momentum=0.6, nesterov=True)\n",
    "model.compile(loss='binary_crossentropy', optimizer=sgd,metrics=['accuracy'])\n",
    "model.summary()\n",
    "history = model.fit(x_train, y_train, batch_size=batch_size, epochs=epochs,verbose=1,validation_data=(x_test, y_test))\n",
    "score = model.evaluate(x_test, y_test, verbose=0)"
   ]
  },
  {
   "cell_type": "code",
   "execution_count": 14,
   "metadata": {},
   "outputs": [
    {
     "name": "stdout",
     "output_type": "stream",
     "text": [
      "Test loss: 0.05418027347178845\n",
      "Test accuracy: 0.9814944674652326\n"
     ]
    }
   ],
   "source": [
    "print('Test loss:', score[0])\n",
    "print('Test accuracy:', score[1])"
   ]
  },
  {
   "cell_type": "code",
   "execution_count": 15,
   "metadata": {},
   "outputs": [
    {
     "name": "stdout",
     "output_type": "stream",
     "text": [
      "dict_keys(['val_loss', 'val_acc', 'loss', 'acc'])\n"
     ]
    },
    {
     "data": {
      "image/png": "[encoded data removed]",
      "text/plain": [
       "<Figure size 432x288 with 1 Axes>"
      ]
     },
     "metadata": {},
     "output_type": "display_data"
    },
    {
     "data": {
      "image/png": "[encoded data removed]",
      "text/plain": [
       "<Figure size 432x288 with 1 Axes>"
      ]
     },
     "metadata": {},
     "output_type": "display_data"
    }
   ],
   "source": [
    "# list all data in history\n",
    "print(history.history.keys())\n",
    "# summarize history for accuracy\n",
    "plt.plot(history.history['acc'])\n",
    "plt.plot(history.history['val_acc'])\n",
    "plt.title('Model Accuracy')\n",
    "plt.ylabel('Accuracy')\n",
    "plt.xlabel('Epoch')\n",
    "plt.legend(['Train', 'Test'], loc='lower right')\n",
    "plt.show()\n",
    "# summarize history for loss\n",
    "plt.plot(history.history['loss'])\n",
    "plt.plot(history.history['val_loss'])\n",
    "plt.title('Model Loss')\n",
    "plt.ylabel('Loss')\n",
    "plt.xlabel('Epoch')\n",
    "plt.legend(['Train', 'Test'], loc='upper right')\n",
    "plt.show()"
   ]
  },
  {
   "cell_type": "code",
   "execution_count": 17,
   "metadata": {},
   "outputs": [],
   "source": [
    "#Saving Model as HDF5 file.\n",
    "model.save(\"CNN_Models/model_with_orientation2.h5\")"
   ]
  },
  {
   "cell_type": "code",
   "execution_count": null,
   "metadata": {},
   "outputs": [],
   "source": []
  }
 ],
 "metadata": {
  "kernelspec": {
   "display_name": "Python 3",
   "language": "python",
   "name": "python3"
  },
  "language_info": {
   "codemirror_mode": {
    "name": "ipython",
    "version": 3
   },
   "file_extension": ".py",
   "mimetype": "text/x-python",
   "name": "python",
   "nbconvert_exporter": "python",
   "pygments_lexer": "ipython3",
   "version": "3.6.4"
  }
 },
 "nbformat": 4,
 "nbformat_minor": 2
}
