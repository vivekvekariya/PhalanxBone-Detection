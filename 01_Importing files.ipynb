{
 "cells": [
  {
   "cell_type": "markdown",
   "metadata": {},
   "source": [
    "# IMPORTING FILE\n",
    "\n",
    "The data collection Android Application stores capacitive touch images as a flattend matrix in \".txt\" files for each participant.\n",
    "\n",
    "We will read all '.txt' file from individual participants. Then maps all field to pandas data frame and store them as pickle file. These pickle files will then be used for data pre-processing and augmentation. \n",
    "\n",
    "NOTE: This code is run on the local machine and the pkl files are uploaded because of memory constraints. "
   ]
  },
  {
   "cell_type": "code",
   "execution_count": null,
   "metadata": {},
   "outputs": [],
   "source": [
    "import sys\n",
    "import os\n",
    "import numpy as np\n",
    "import pandas as pd"
   ]
  },
  {
   "cell_type": "code",
   "execution_count": null,
   "metadata": {},
   "outputs": [],
   "source": [
    "def save_pickle (data,i):\n",
    "    \n",
    "    #For given participant convert data to Pandas data frame.\n",
    "    df = pd.DataFrame(data, columns=['Participant', 'Handedness','Finger', 'Task', 'Timestamp', 'Matrix'])\n",
    "    df.Timestamp = df.Timestamp.astype(int)\n",
    "    save_path = 'D:/M.Sc. - INFOTECH/02. Summer Sem - 2018/Machine Learning - Lab/Dataset_Phalanx/P'+str(i)+'/data'+str(i)+'.pkl'\n",
    "    df.to_pickle(save_path)"
   ]
  },
  {
   "cell_type": "code",
   "execution_count": null,
   "metadata": {},
   "outputs": [],
   "source": [
    "data = list()\n",
    "lines_skipped = 0\n",
    "\n",
    "# Read data from all participant. In our case there are total 25 Participants.\n",
    "for i in range(1,26):\n",
    "    data = []\n",
    "    DATA_PATH = 'D:/M.Sc. - INFOTECH/02. Summer Sem - 2018/Machine Learning - Lab/Dataset_Phalanx/P'+str(i)+'/'\n",
    "    for fn in os.listdir(DATA_PATH):\n",
    "        if os.path.isfile(DATA_PATH + fn):\n",
    "            if (fn.startswith(\"CapMatrix\") and fn.endswith(\".txt\")):\n",
    "                print(\"Reading \" + DATA_PATH + fn)\n",
    "                lines = tuple(open(DATA_PATH + fn, 'r'))\n",
    "                for l in lines:\n",
    "                    l = l.split(\";\")\n",
    "                    participant  = int(l[0])\n",
    "                    hand = l[1]\n",
    "                    finger = l[2]\n",
    "                    task = l[3]\n",
    "                \n",
    "                    kernel_output = l[4] #Capacitive Matrix along with time stamp is kernel_output.\n",
    "                    if (not \",,\" in kernel_output):\n",
    "                        kernel_output = kernel_output.replace(\"\\n\", \"\")\n",
    "                        kernel_output = kernel_output.split(\",\")\n",
    "                        if (len(kernel_output) == 407):\n",
    "                            kernel_output = kernel_output[:407]\n",
    "                            time_ms = float(kernel_output[0])\n",
    "                            time_ns = float(kernel_output[1])\n",
    "                            timestamp = time_ms + time_ns//1000000000\n",
    "                            m_arr = np.array(kernel_output[2:])\n",
    "                            matrix = m_arr.astype(int)\n",
    "                            data.append([participant, hand, finger, task, timestamp, matrix]) \n",
    "                        else:\n",
    "                            lines_skipped = lines_skipped + 1\n",
    "                    else:\n",
    "                        lines_skipped = lines_skipped + 1   \n",
    "        \n",
    "        #Store current participant data to Pickle file in that folder.\n",
    "        save_pickle(data,i)    \n",
    "                                      \n",
    "    \n",
    "    "
   ]
  }
 ],
 "metadata": {
  "kernelspec": {
   "display_name": "Python 3",
   "language": "python",
   "name": "python3"
  },
  "language_info": {
   "codemirror_mode": {
    "name": "ipython",
    "version": 3
   },
   "file_extension": ".py",
   "mimetype": "text/x-python",
   "name": "python",
   "nbconvert_exporter": "python",
   "pygments_lexer": "ipython3",
   "version": "3.6.4"
  }
 },
 "nbformat": 4,
 "nbformat_minor": 2
}
