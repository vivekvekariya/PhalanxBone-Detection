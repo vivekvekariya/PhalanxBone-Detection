{
 "cells": [
  {
   "cell_type": "markdown",
   "metadata": {},
   "source": [
    "# Generating Training Data Set\n",
    "\n",
    "After pre-processing and data augmentation, we are merging data from all participants to a single file as training data set for CNN Model.\n",
    "After merging data from all participant we are reshaping data into 27 X 15 matrices and re-labeling data containing only labels as 'finger' and 'phalanx'."
   ]
  },
  {
   "cell_type": "code",
   "execution_count": 1,
   "metadata": {},
   "outputs": [],
   "source": [
    "from numpy import *\n",
    "import matplotlib.pyplot as plt\n",
    "import pandas as pd\n",
    "import numpy as np\n",
    "import time\n",
    "import os, sys"
   ]
  },
  {
   "cell_type": "code",
   "execution_count": 2,
   "metadata": {
    "scrolled": false
   },
   "outputs": [
    {
     "name": "stdout",
     "output_type": "stream",
     "text": [
      "Number of Images for Participant 1 are 31792.\n",
      "Number of Images for Participant 2 are 42700.\n",
      "Number of Images for Participant 3 are 37532.\n",
      "Number of Images for Participant 4 are 46896.\n",
      "Number of Images for Participant 5 are 53932.\n",
      "Number of Images for Participant 6 are 66296.\n",
      "Number of Images for Participant 7 are 66832.\n",
      "Number of Images for Participant 8 are 48152.\n",
      "Number of Images for Participant 9 are 52336.\n",
      "Number of Images for Participant 10 are 47464.\n",
      "Number of Images for Participant 11 are 48232.\n",
      "Number of Images for Participant 12 are 45632.\n",
      "Number of Images for Participant 13 are 52848.\n",
      "Number of Images for Participant 14 are 48340.\n",
      "Number of Images for Participant 15 are 54680.\n",
      "Number of Images for Participant 16 are 59520.\n",
      "Number of Images for Participant 17 are 52348.\n",
      "Number of Images for Participant 18 are 51128.\n",
      "Number of Images for Participant 19 are 48420.\n",
      "Number of Images for Participant 20 are 36720.\n",
      "Number of Images for Participant 21 are 52700.\n",
      "Number of Images for Participant 22 are 48116.\n",
      "Number of Images for Participant 23 are 41400.\n",
      "Number of Images for Participant 24 are 46824.\n",
      "Number of Images for Participant 25 are 49656.\n",
      "Number of Images for Participant 26 are 530838.\n",
      "Total number of images in training set are 1761334.\n",
      "CPU times: user 7.58 s, sys: 859 ms, total: 8.44 s\n",
      "Wall time: 8.41 s\n"
     ]
    }
   ],
   "source": [
    "%%time\n",
    "#Merging all augmented data and storing it as training data set.\n",
    "df_training = pd.DataFrame()\n",
    "counter = 0\n",
    "\n",
    "#Here we include data set from finger orientation study project as 'Participant 26 (data26.pkl)' file.\n",
    "\n",
    "for i in range(1,27):\n",
    "    df_aug = pd.read_pickle('DataSet_Phalanx/03_Augmented_DataSet/data'+str(i)+'.pkl')\n",
    "    print('Number of Images for Participant '+ str(i)+' are '+str(df_aug.shape[0])+'.')\n",
    "    counter = counter+df_aug.shape[0]\n",
    "    df_training = pd.concat([df_training,df_aug],ignore_index=True)\n",
    "\n",
    "print('Total number of images in training set are '+str(counter)+'.')\n",
    "\n"
   ]
  },
  {
   "cell_type": "code",
   "execution_count": 3,
   "metadata": {},
   "outputs": [
    {
     "name": "stdout",
     "output_type": "stream",
     "text": [
      "CPU times: user 3min 30s, sys: 3.62 s, total: 3min 33s\n",
      "Wall time: 3min 33s\n"
     ]
    }
   ],
   "source": [
    "%%time\n",
    "#convert to 27x15 Matrix image\n",
    "for i in range(df_training.shape[0]):\n",
    "    full_matrix = np.zeros(405).reshape(27,15)\n",
    "    D = df_training.Cropped_Matrix[i]\n",
    "    full_matrix[:D.shape[0],:D.shape[1]]=D\n",
    "    df_training.at[i,'Cropped_Matrix'] = full_matrix.astype(int32)\n"
   ]
  },
  {
   "cell_type": "code",
   "execution_count": 4,
   "metadata": {},
   "outputs": [
    {
     "name": "stdout",
     "output_type": "stream",
     "text": [
      "CPU times: user 1.3 s, sys: 140 ms, total: 1.44 s\n",
      "Wall time: 1.44 s\n"
     ]
    }
   ],
   "source": [
    "%%time\n",
    "#change labels\n",
    "\n",
    "df_training.rename(columns={'Participant': 'Participant', 'Task': 'Label','Cropped_Matrix': 'Input'}, inplace=True)\n",
    "df_training['Label'] = df_training['Label'].replace({'DRAG': 'finger',\n",
    "                                                     'TAP': 'finger',\n",
    "                                                     'SCROLL':'finger',\n",
    "                                                     'PHALANX_SCROLL': 'phalanx',\n",
    "                                                     'PHALANX_TAP': 'phalanx',\n",
    "                                                     'PHALANX_DRAG': 'phalanx',\n",
    "                                                     2: 'finger',\n",
    "                                                     4: 'finger'\n",
    "                                                    })\n"
   ]
  },
  {
   "cell_type": "code",
   "execution_count": 5,
   "metadata": {},
   "outputs": [
    {
     "data": {
      "text/plain": [
       "1761334"
      ]
     },
     "execution_count": 5,
     "metadata": {},
     "output_type": "execute_result"
    }
   ],
   "source": [
    "df_training.shape[0]"
   ]
  },
  {
   "cell_type": "code",
   "execution_count": 6,
   "metadata": {},
   "outputs": [
    {
     "name": "stdout",
     "output_type": "stream",
     "text": [
      "223871 PAUSE\n",
      "240445 PAUSE\n",
      "257019 PAUSE\n",
      "273593 PAUSE\n",
      "280958 PAUSE\n",
      "297666 PAUSE\n",
      "314374 PAUSE\n",
      "331082 PAUSE\n",
      "1003726 PAUSE\n",
      "1016901 PAUSE\n",
      "1030076 PAUSE\n",
      "1043251 PAUSE\n"
     ]
    }
   ],
   "source": [
    "#Deleting Images which are captured during task changing duration labelled as Pause (to avoid wrong labelling).\n",
    "for i in range(df_training.shape[0]):\n",
    "    if(df_training.Label[i]=='PAUSE'):\n",
    "        print(i,df_training.Label[i])\n",
    "        df_training.drop(i, inplace=True)"
   ]
  },
  {
   "cell_type": "code",
   "execution_count": 7,
   "metadata": {},
   "outputs": [],
   "source": [
    "df_training.to_pickle('DataSet_Phalanx/04_Training_Set/trainingdata.pkl')"
   ]
  },
  {
   "cell_type": "code",
   "execution_count": 8,
   "metadata": {},
   "outputs": [],
   "source": [
    "df = pd.read_pickle('DataSet_Phalanx/04_Training_Set/trainingdata.pkl')"
   ]
  },
  {
   "cell_type": "code",
   "execution_count": 9,
   "metadata": {},
   "outputs": [
    {
     "data": {
      "text/plain": [
       "finger     1071422\n",
       "phalanx     689900\n",
       "Name: Label, dtype: int64"
      ]
     },
     "execution_count": 9,
     "metadata": {},
     "output_type": "execute_result"
    }
   ],
   "source": [
    "df['Label'].value_counts()"
   ]
  },
  {
   "cell_type": "code",
   "execution_count": null,
   "metadata": {},
   "outputs": [],
   "source": []
  }
 ],
 "metadata": {
  "kernelspec": {
   "display_name": "Python 3",
   "language": "python",
   "name": "python3"
  },
  "language_info": {
   "codemirror_mode": {
    "name": "ipython",
    "version": 3
   },
   "file_extension": ".py",
   "mimetype": "text/x-python",
   "name": "python",
   "nbconvert_exporter": "python",
   "pygments_lexer": "ipython3",
   "version": "3.6.4"
  }
 },
 "nbformat": 4,
 "nbformat_minor": 2
}
